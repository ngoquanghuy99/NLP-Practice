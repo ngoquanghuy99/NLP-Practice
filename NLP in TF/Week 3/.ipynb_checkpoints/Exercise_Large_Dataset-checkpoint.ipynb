{
 "cells": [
  {
   "cell_type": "code",
   "execution_count": null,
   "metadata": {
    "colab": {},
    "colab_type": "code",
    "id": "vTiftJmSPPls"
   },
   "outputs": [],
   "source": []
  },
  {
   "cell_type": "code",
   "execution_count": 1,
   "metadata": {
    "colab": {
     "base_uri": "https://localhost:8080/",
     "height": 202
    },
    "colab_type": "code",
    "id": "PpEkBHCsWsaa",
    "outputId": "98fd7ec5-36c1-4ebb-c337-cefababbaf1f"
   },
   "outputs": [
    {
     "name": "stdout",
     "output_type": "stream",
     "text": [
      "--2020-08-07 14:37:22--  https://storage.googleapis.com/laurencemoroney-blog.appspot.com/training_cleaned.csv\n",
      "Resolving storage.googleapis.com (storage.googleapis.com)... 173.194.214.128, 173.194.216.128, 108.177.13.128, ...\n",
      "Connecting to storage.googleapis.com (storage.googleapis.com)|173.194.214.128|:443... connected.\n",
      "HTTP request sent, awaiting response... 200 OK\n",
      "Length: 238942690 (228M) [application/octet-stream]\n",
      "Saving to: ‘/tmp/training_cleaned.csv’\n",
      "\n",
      "/tmp/training_clean 100%[===================>] 227.87M   139MB/s    in 1.6s    \n",
      "\n",
      "2020-08-07 14:37:24 (139 MB/s) - ‘/tmp/training_cleaned.csv’ saved [238942690/238942690]\n",
      "\n"
     ]
    }
   ],
   "source": [
    "!wget --no-check-certificate \\\n",
    "    https://storage.googleapis.com/laurencemoroney-blog.appspot.com/training_cleaned.csv \\\n",
    "    -O /tmp/training_cleaned.csv"
   ]
  },
  {
   "cell_type": "code",
   "execution_count": 29,
   "metadata": {
    "colab": {},
    "colab_type": "code",
    "id": "4EG1LsJ1Wsht"
   },
   "outputs": [],
   "source": [
    "import numpy as np\n",
    "import matplotlib.pyplot as plt\n",
    "import pandas as pd\n",
    "import csv\n",
    "import random\n",
    "import tensorflow as tf\n",
    "from tensorflow.keras.preprocessing.text import Tokenizer\n",
    "from tensorflow.keras.preprocessing.sequence import pad_sequences\n",
    "from tensorflow.keras.models import Sequential\n",
    "from tensorflow.keras.layers import Embedding, Dense, LSTM, Conv1D, Activation, MaxPooling1D, Dropout\n"
   ]
  },
  {
   "cell_type": "code",
   "execution_count": 4,
   "metadata": {
    "colab": {},
    "colab_type": "code",
    "id": "b3JJG-eLWskM"
   },
   "outputs": [],
   "source": [
    "# create corpus\n",
    "corpus = []\n",
    "with open(\"/tmp/training_cleaned.csv\", 'r') as f:\n",
    "  reader = csv.reader(f, delimiter=',')\n",
    "  for row in reader:\n",
    "    list_item = []\n",
    "    list_item.append(row[5])\n",
    "    if row[0] == '0':\n",
    "      list_item.append(0)\n",
    "    else:\n",
    "      list_item.append(1)\n",
    "    corpus.append(list_item)\n"
   ]
  },
  {
   "cell_type": "code",
   "execution_count": 8,
   "metadata": {
    "colab": {},
    "colab_type": "code",
    "id": "5N3wekegWsmd"
   },
   "outputs": [],
   "source": [
    "# hyperparameters\n",
    "vocab_size = 0  # getting all the words, not just choosing n words with highest probabilities \n",
    "embedding_dims = 100\n",
    "max_length = 16\n",
    "padding_type = 'post'\n",
    "trunc_type = 'post'\n",
    "train_portion = 0.9\n",
    "\n"
   ]
  },
  {
   "cell_type": "code",
   "execution_count": 25,
   "metadata": {
    "colab": {},
    "colab_type": "code",
    "id": "8GtwPPEmWspR"
   },
   "outputs": [],
   "source": [
    "random.shuffle(corpus)\n",
    "sentences = []\n",
    "labels = []\n",
    "for x in range(len(corpus)):\n",
    "  sentences.append(corpus[x][0])\n",
    "  labels.append(corpus[x][1])\n",
    "\n",
    "tokenizer = Tokenizer()\n",
    "tokenizer.fit_on_texts(sentences)\n",
    "word_index = tokenizer.word_index\n",
    "vocab_size = len(word_index) \n",
    "\n",
    "sequences = tokenizer.texts_to_sequences(sentences)\n",
    "padded_sequences = pad_sequences(sequences, maxlen=max_length, padding=padding_type, truncating=trunc_type)\n",
    "\n"
   ]
  },
  {
   "cell_type": "code",
   "execution_count": 26,
   "metadata": {
    "colab": {
     "base_uri": "https://localhost:8080/",
     "height": 34
    },
    "colab_type": "code",
    "id": "HHtHrGP7hI4Z",
    "outputId": "920a10b2-f4c9-477f-a187-855ddb911fac"
   },
   "outputs": [
    {
     "name": "stdout",
     "output_type": "stream",
     "text": [
      "number of words in the vocabulary: 690960\n"
     ]
    }
   ],
   "source": [
    "print(\"number of words in the vocabulary: {}\".format(vocab_size))"
   ]
  },
  {
   "cell_type": "code",
   "execution_count": 13,
   "metadata": {
    "colab": {},
    "colab_type": "code",
    "id": "0tiiiRsmWssL"
   },
   "outputs": [],
   "source": [
    "# split \n",
    "split = int(len(corpus) * train_portion)\n",
    "train_seq = padded_sequences[:split]\n",
    "train_labels = labels[:split]\n",
    "test_seq = padded_sequences[split:]\n",
    "test_labels = labels[split:]\n",
    "\n",
    "train_seq = np.array(train_seq)\n",
    "train_labels = np.array(train_labels)\n",
    "test_seq = np.array(test_seq)\n",
    "test_labels = np.array(test_labels)"
   ]
  },
  {
   "cell_type": "code",
   "execution_count": 14,
   "metadata": {
    "colab": {
     "base_uri": "https://localhost:8080/",
     "height": 34
    },
    "colab_type": "code",
    "id": "AM9_kiO5WsvV",
    "outputId": "0b45bb80-6ffe-46b0-f0bf-7c15757ab14a"
   },
   "outputs": [
    {
     "name": "stdout",
     "output_type": "stream",
     "text": [
      "1440000\n"
     ]
    }
   ],
   "source": [
    "print(len(train_seq))"
   ]
  },
  {
   "cell_type": "code",
   "execution_count": 27,
   "metadata": {
    "colab": {
     "base_uri": "https://localhost:8080/",
     "height": 202
    },
    "colab_type": "code",
    "id": "OigYlMwXk1Ix",
    "outputId": "9982fde9-08cc-47d9-cc63-c78d00f137ae"
   },
   "outputs": [
    {
     "name": "stdout",
     "output_type": "stream",
     "text": [
      "--2020-08-07 15:48:42--  https://storage.googleapis.com/laurencemoroney-blog.appspot.com/glove.6B.100d.txt\n",
      "Resolving storage.googleapis.com (storage.googleapis.com)... 64.233.170.128, 172.217.204.128, 172.217.203.128, ...\n",
      "Connecting to storage.googleapis.com (storage.googleapis.com)|64.233.170.128|:443... connected.\n",
      "HTTP request sent, awaiting response... 200 OK\n",
      "Length: 347116733 (331M) [text/plain]\n",
      "Saving to: ‘/tmp/glove.6B.100d.txt’\n",
      "\n",
      "/tmp/glove.6B.100d. 100%[===================>] 331.04M   159MB/s    in 2.1s    \n",
      "\n",
      "2020-08-07 15:48:45 (159 MB/s) - ‘/tmp/glove.6B.100d.txt’ saved [347116733/347116733]\n",
      "\n"
     ]
    }
   ],
   "source": [
    "# 100 dimension GloVe from Stanford\n",
    "!wget --no-check-certificate \\\n",
    "    https://storage.googleapis.com/laurencemoroney-blog.appspot.com/glove.6B.100d.txt \\\n",
    "    -O /tmp/glove.6B.100d.txt\n",
    "embeddings_index = {};\n",
    "with open('/tmp/glove.6B.100d.txt') as f:\n",
    "    for line in f:\n",
    "        values = line.split();\n",
    "        word = values[0];\n",
    "        coefs = np.asarray(values[1:], dtype='float32');\n",
    "        embeddings_index[word] = coefs;\n",
    "\n",
    "embeddings_matrix = np.zeros((vocab_size+1, embedding_dims));\n",
    "for word, i in word_index.items():\n",
    "    embedding_vector = embeddings_index.get(word);\n",
    "    if embedding_vector is not None:\n",
    "        embeddings_matrix[i] = embedding_vector;"
   ]
  },
  {
   "cell_type": "code",
   "execution_count": 30,
   "metadata": {
    "colab": {
     "base_uri": "https://localhost:8080/",
     "height": 420
    },
    "colab_type": "code",
    "id": "KlrWySW7Ws01",
    "outputId": "f8236600-8354-4be4-ae28-457de20da2ba"
   },
   "outputs": [
    {
     "name": "stdout",
     "output_type": "stream",
     "text": [
      "Model: \"sequential_3\"\n",
      "_________________________________________________________________\n",
      "Layer (type)                 Output Shape              Param #   \n",
      "=================================================================\n",
      "embedding_2 (Embedding)      (None, 16, 100)           69096100  \n",
      "_________________________________________________________________\n",
      "dropout (Dropout)            (None, 16, 100)           0         \n",
      "_________________________________________________________________\n",
      "conv1d (Conv1D)              (None, 12, 64)            32064     \n",
      "_________________________________________________________________\n",
      "activation (Activation)      (None, 12, 64)            0         \n",
      "_________________________________________________________________\n",
      "max_pooling1d (MaxPooling1D) (None, 3, 64)             0         \n",
      "_________________________________________________________________\n",
      "lstm (LSTM)                  (None, 64)                33024     \n",
      "_________________________________________________________________\n",
      "dense (Dense)                (None, 1)                 65        \n",
      "_________________________________________________________________\n",
      "activation_1 (Activation)    (None, 1)                 0         \n",
      "=================================================================\n",
      "Total params: 69,161,253\n",
      "Trainable params: 65,153\n",
      "Non-trainable params: 69,096,100\n",
      "_________________________________________________________________\n"
     ]
    }
   ],
   "source": [
    "# model\n",
    "model = Sequential()\n",
    "model.add(Embedding(vocab_size+1, embedding_dims, input_length=max_length, weights=[embeddings_matrix], trainable=False))\n",
    "model.add(Dropout(0.2))\n",
    "model.add(Conv1D(64, 5))\n",
    "model.add(Activation('relu'))\n",
    "model.add(MaxPooling1D(pool_size=4))\n",
    "model.add(LSTM(64))\n",
    "model.add(Dense(1))\n",
    "model.add(Activation('sigmoid'))\n",
    "model.compile(loss='binary_crossentropy', optimizer='adam', metrics=['accuracy'])\n",
    "model.summary()"
   ]
  },
  {
   "cell_type": "code",
   "execution_count": 31,
   "metadata": {
    "colab": {
     "base_uri": "https://localhost:8080/",
     "height": 1000
    },
    "colab_type": "code",
    "id": "gldq8lfzWs3_",
    "outputId": "e8fe0611-31a9-4940-c834-005f1f204f7e"
   },
   "outputs": [
    {
     "name": "stdout",
     "output_type": "stream",
     "text": [
      "Epoch 1/50\n",
      "45000/45000 - 309s - loss: 0.5413 - accuracy: 0.7192 - val_loss: 0.5032 - val_accuracy: 0.7487\n",
      "Epoch 2/50\n",
      "45000/45000 - 301s - loss: 0.5167 - accuracy: 0.7385 - val_loss: 0.4940 - val_accuracy: 0.7541\n",
      "Epoch 3/50\n",
      "45000/45000 - 292s - loss: 0.5101 - accuracy: 0.7428 - val_loss: 0.4911 - val_accuracy: 0.7567\n",
      "Epoch 4/50\n",
      "45000/45000 - 287s - loss: 0.5061 - accuracy: 0.7458 - val_loss: 0.4894 - val_accuracy: 0.7585\n",
      "Epoch 5/50\n",
      "45000/45000 - 297s - loss: 0.5040 - accuracy: 0.7471 - val_loss: 0.4903 - val_accuracy: 0.7581\n",
      "Epoch 6/50\n",
      "45000/45000 - 295s - loss: 0.5027 - accuracy: 0.7482 - val_loss: 0.4859 - val_accuracy: 0.7608\n",
      "Epoch 7/50\n",
      "45000/45000 - 291s - loss: 0.5013 - accuracy: 0.7495 - val_loss: 0.4861 - val_accuracy: 0.7598\n",
      "Epoch 8/50\n",
      "45000/45000 - 277s - loss: 0.5002 - accuracy: 0.7504 - val_loss: 0.4875 - val_accuracy: 0.7585\n",
      "Epoch 9/50\n",
      "45000/45000 - 274s - loss: 0.4995 - accuracy: 0.7508 - val_loss: 0.4864 - val_accuracy: 0.7601\n",
      "Epoch 10/50\n",
      "45000/45000 - 295s - loss: 0.4991 - accuracy: 0.7510 - val_loss: 0.4851 - val_accuracy: 0.7606\n",
      "Epoch 11/50\n",
      "45000/45000 - 295s - loss: 0.4986 - accuracy: 0.7516 - val_loss: 0.4840 - val_accuracy: 0.7610\n",
      "Epoch 12/50\n",
      "45000/45000 - 288s - loss: 0.4982 - accuracy: 0.7516 - val_loss: 0.4861 - val_accuracy: 0.7608\n",
      "Epoch 13/50\n",
      "45000/45000 - 284s - loss: 0.4985 - accuracy: 0.7514 - val_loss: 0.4842 - val_accuracy: 0.7610\n",
      "Epoch 14/50\n",
      "45000/45000 - 293s - loss: 0.4981 - accuracy: 0.7518 - val_loss: 0.4850 - val_accuracy: 0.7608\n",
      "Epoch 15/50\n",
      "45000/45000 - 294s - loss: 0.4975 - accuracy: 0.7522 - val_loss: 0.4828 - val_accuracy: 0.7628\n",
      "Epoch 16/50\n",
      "45000/45000 - 290s - loss: 0.4977 - accuracy: 0.7521 - val_loss: 0.4839 - val_accuracy: 0.7620\n",
      "Epoch 17/50\n",
      "45000/45000 - 292s - loss: 0.4974 - accuracy: 0.7526 - val_loss: 0.4836 - val_accuracy: 0.7619\n",
      "Epoch 18/50\n",
      "45000/45000 - 300s - loss: 0.4969 - accuracy: 0.7530 - val_loss: 0.4840 - val_accuracy: 0.7623\n",
      "Epoch 19/50\n",
      "45000/45000 - 292s - loss: 0.4974 - accuracy: 0.7528 - val_loss: 0.4841 - val_accuracy: 0.7628\n",
      "Epoch 20/50\n",
      "45000/45000 - 290s - loss: 0.4970 - accuracy: 0.7529 - val_loss: 0.4847 - val_accuracy: 0.7616\n",
      "Epoch 21/50\n",
      "45000/45000 - 322s - loss: 0.4974 - accuracy: 0.7525 - val_loss: 0.4834 - val_accuracy: 0.7627\n",
      "Epoch 22/50\n",
      "45000/45000 - 309s - loss: 0.4967 - accuracy: 0.7529 - val_loss: 0.4839 - val_accuracy: 0.7616\n",
      "Epoch 23/50\n",
      "45000/45000 - 297s - loss: 0.4970 - accuracy: 0.7528 - val_loss: 0.4834 - val_accuracy: 0.7630\n",
      "Epoch 24/50\n",
      "45000/45000 - 287s - loss: 0.4967 - accuracy: 0.7530 - val_loss: 0.4831 - val_accuracy: 0.7630\n",
      "Epoch 25/50\n",
      "45000/45000 - 280s - loss: 0.4966 - accuracy: 0.7535 - val_loss: 0.4830 - val_accuracy: 0.7625\n",
      "Epoch 26/50\n",
      "45000/45000 - 282s - loss: 0.4966 - accuracy: 0.7532 - val_loss: 0.4854 - val_accuracy: 0.7603\n",
      "Epoch 27/50\n",
      "45000/45000 - 284s - loss: 0.4967 - accuracy: 0.7528 - val_loss: 0.4832 - val_accuracy: 0.7618\n",
      "Epoch 28/50\n",
      "45000/45000 - 280s - loss: 0.4965 - accuracy: 0.7534 - val_loss: 0.4837 - val_accuracy: 0.7620\n",
      "Epoch 29/50\n",
      "45000/45000 - 282s - loss: 0.4970 - accuracy: 0.7530 - val_loss: 0.4842 - val_accuracy: 0.7616\n",
      "Epoch 30/50\n",
      "45000/45000 - 286s - loss: 0.4972 - accuracy: 0.7530 - val_loss: 0.4833 - val_accuracy: 0.7625\n",
      "Epoch 31/50\n",
      "45000/45000 - 305s - loss: 0.4973 - accuracy: 0.7530 - val_loss: 0.4839 - val_accuracy: 0.7620\n",
      "Epoch 32/50\n",
      "45000/45000 - 286s - loss: 0.4976 - accuracy: 0.7528 - val_loss: 0.4847 - val_accuracy: 0.7618\n",
      "Epoch 33/50\n",
      "45000/45000 - 304s - loss: 0.4973 - accuracy: 0.7533 - val_loss: 0.4837 - val_accuracy: 0.7623\n",
      "Epoch 34/50\n",
      "45000/45000 - 286s - loss: 0.4971 - accuracy: 0.7533 - val_loss: 0.4853 - val_accuracy: 0.7614\n",
      "Epoch 35/50\n",
      "45000/45000 - 282s - loss: 0.4976 - accuracy: 0.7530 - val_loss: 0.4850 - val_accuracy: 0.7617\n",
      "Epoch 36/50\n",
      "45000/45000 - 289s - loss: 0.4974 - accuracy: 0.7528 - val_loss: 0.4836 - val_accuracy: 0.7631\n",
      "Epoch 37/50\n",
      "45000/45000 - 279s - loss: 0.4974 - accuracy: 0.7528 - val_loss: 0.4846 - val_accuracy: 0.7623\n",
      "Epoch 38/50\n",
      "45000/45000 - 279s - loss: 0.4978 - accuracy: 0.7530 - val_loss: 0.4845 - val_accuracy: 0.7621\n",
      "Epoch 39/50\n",
      "45000/45000 - 278s - loss: 0.4982 - accuracy: 0.7528 - val_loss: 0.4848 - val_accuracy: 0.7616\n",
      "Epoch 40/50\n",
      "45000/45000 - 282s - loss: 0.4980 - accuracy: 0.7528 - val_loss: 0.4849 - val_accuracy: 0.7626\n",
      "Epoch 41/50\n",
      "45000/45000 - 275s - loss: 0.4979 - accuracy: 0.7530 - val_loss: 0.4845 - val_accuracy: 0.7610\n",
      "Epoch 42/50\n",
      "45000/45000 - 278s - loss: 0.4982 - accuracy: 0.7525 - val_loss: 0.4853 - val_accuracy: 0.7601\n",
      "Epoch 43/50\n",
      "45000/45000 - 295s - loss: 0.4982 - accuracy: 0.7526 - val_loss: 0.4849 - val_accuracy: 0.7624\n",
      "Epoch 44/50\n",
      "45000/45000 - 281s - loss: 0.4985 - accuracy: 0.7522 - val_loss: 0.4848 - val_accuracy: 0.7626\n",
      "Epoch 45/50\n",
      "45000/45000 - 269s - loss: 0.4984 - accuracy: 0.7524 - val_loss: 0.4856 - val_accuracy: 0.7615\n",
      "Epoch 46/50\n",
      "45000/45000 - 269s - loss: 0.4982 - accuracy: 0.7529 - val_loss: 0.4841 - val_accuracy: 0.7626\n",
      "Epoch 47/50\n",
      "45000/45000 - 267s - loss: 0.4987 - accuracy: 0.7524 - val_loss: 0.4851 - val_accuracy: 0.7604\n",
      "Epoch 48/50\n",
      "45000/45000 - 276s - loss: 0.4992 - accuracy: 0.7523 - val_loss: 0.4868 - val_accuracy: 0.7621\n",
      "Epoch 49/50\n",
      "45000/45000 - 278s - loss: 0.4990 - accuracy: 0.7523 - val_loss: 0.4851 - val_accuracy: 0.7614\n",
      "Epoch 50/50\n",
      "45000/45000 - 276s - loss: 0.4992 - accuracy: 0.7518 - val_loss: 0.4861 - val_accuracy: 0.7617\n"
     ]
    }
   ],
   "source": [
    "history = model.fit(train_seq, train_labels, epochs=50, validation_data=(test_seq, test_labels), verbose=2)"
   ]
  },
  {
   "cell_type": "code",
   "execution_count": 32,
   "metadata": {
    "colab": {
     "base_uri": "https://localhost:8080/",
     "height": 606
    },
    "colab_type": "code",
    "id": "zVpHZxtmWszJ",
    "outputId": "6d13b06a-bf3c-49c4-f955-28526024d391"
   },
   "outputs": [
    {
     "data": {
      "text/plain": [
       "<Figure size 432x288 with 0 Axes>"
      ]
     },
     "execution_count": 32,
     "metadata": {
      "tags": []
     },
     "output_type": "execute_result"
    },
    {
     "data": {
      "image/png": "[encoded data removed]",
      "text/plain": [
       "<Figure size 432x288 with 1 Axes>"
      ]
     },
     "metadata": {
      "needs_background": "light",
      "tags": []
     },
     "output_type": "display_data"
    },
    {
     "data": {
      "image/png": "[encoded data removed]",
      "text/plain": [
       "<Figure size 432x288 with 1 Axes>"
      ]
     },
     "metadata": {
      "needs_background": "light",
      "tags": []
     },
     "output_type": "display_data"
    },
    {
     "data": {
      "text/plain": [
       "<Figure size 432x288 with 0 Axes>"
      ]
     },
     "metadata": {
      "tags": []
     },
     "output_type": "display_data"
    }
   ],
   "source": [
    "import matplotlib.image  as mpimg\n",
    "import matplotlib.pyplot as plt\n",
    "\n",
    "#-----------------------------------------------------------\n",
    "# Retrieve a list of list results on training and test data\n",
    "# sets for each training epoch\n",
    "#-----------------------------------------------------------\n",
    "acc=history.history['accuracy']\n",
    "val_acc=history.history['val_accuracy']\n",
    "loss=history.history['loss']\n",
    "val_loss=history.history['val_loss']\n",
    "\n",
    "epochs=range(len(acc)) # Get number of epochs\n",
    "\n",
    "#------------------------------------------------\n",
    "# Plot training and validation accuracy per epoch\n",
    "#------------------------------------------------\n",
    "plt.plot(epochs, acc, 'r')\n",
    "plt.plot(epochs, val_acc, 'b')\n",
    "plt.title('Training and validation accuracy')\n",
    "plt.xlabel(\"Epochs\")\n",
    "plt.ylabel(\"Accuracy\")\n",
    "plt.legend([\"Accuracy\", \"Validation Accuracy\"])\n",
    "\n",
    "plt.figure()\n",
    "\n",
    "#------------------------------------------------\n",
    "# Plot training and validation loss per epoch\n",
    "#------------------------------------------------\n",
    "plt.plot(epochs, loss, 'r')\n",
    "plt.plot(epochs, val_loss, 'b')\n",
    "plt.title('Training and validation loss')\n",
    "plt.xlabel(\"Epochs\")\n",
    "plt.ylabel(\"Loss\")\n",
    "plt.legend([\"Loss\", \"Validation Loss\"])\n",
    "\n",
    "plt.figure()\n",
    "\n",
    "\n",
    "# Expected Output\n",
    "# A chart where the validation loss does not increase sharply!"
   ]
  }
 ],
 "metadata": {
  "colab": {
   "name": "Exercise_Large_Dataset.ipynb",
   "provenance": []
  },
  "kernelspec": {
   "display_name": "Python 3",
   "language": "python",
   "name": "python3"
  },
  "language_info": {
   "codemirror_mode": {
    "name": "ipython",
    "version": 3
   },
   "file_extension": ".py",
   "mimetype": "text/x-python",
   "name": "python",
   "nbconvert_exporter": "python",
   "pygments_lexer": "ipython3",
   "version": "3.6.5"
  }
 },
 "nbformat": 4,
 "nbformat_minor": 1
}
